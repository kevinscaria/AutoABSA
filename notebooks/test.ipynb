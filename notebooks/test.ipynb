{
 "cells": [
  {
   "cell_type": "code",
   "execution_count": 5,
   "metadata": {},
   "outputs": [],
   "source": [
    "import torch\n",
    "from sentence_transformers import SentenceTransformer\n",
    "\n",
    "model = SentenceTransformer(\"sentence-transformers/all-MiniLM-L12-v2\")\n",
    "\n",
    "pos_emb = torch.tensor(model.encode(\"good\")).unsqueeze(dim=0)\n",
    "neg_emb = torch.tensor(model.encode(\"bad\")).unsqueeze(dim=0)\n",
    "neut_emb = torch.tensor(model.encode(\"ok\")).unsqueeze(dim=0)\n",
    "sent_emb = torch.tensor(model.encode(\"recommended\")).unsqueeze(dim=0)\n",
    "\n",
    "cosine_simlarity = torch.nn.CosineSimilarity(dim=1, eps=1e-6)\n",
    "softmax = torch.nn.Softmax(dim=0)\n",
    "\n",
    "polarity = torch.argmax(softmax(torch.cat([\n",
    "    cosine_simlarity(pos_emb, sent_emb),\n",
    "    cosine_simlarity(neg_emb, sent_emb),\n",
    "    cosine_simlarity(neut_emb, sent_emb)\n",
    "])))\n",
    "\n",
    "print(polarity)"
   ]
  },
  {
   "cell_type": "code",
   "execution_count": 24,
   "metadata": {},
   "outputs": [],
   "source": []
  },
  {
   "cell_type": "code",
   "execution_count": 28,
   "metadata": {},
   "outputs": [],
   "source": []
  },
  {
   "cell_type": "code",
   "execution_count": null,
   "metadata": {},
   "outputs": [],
   "source": []
  }
 ],
 "metadata": {
  "kernelspec": {
   "display_name": "basegpu",
   "language": "python",
   "name": "python3"
  },
  "language_info": {
   "codemirror_mode": {
    "name": "ipython",
    "version": 3
   },
   "file_extension": ".py",
   "mimetype": "text/x-python",
   "name": "python",
   "nbconvert_exporter": "python",
   "pygments_lexer": "ipython3",
   "version": "3.10.10"
  }
 },
 "nbformat": 4,
 "nbformat_minor": 2
}
